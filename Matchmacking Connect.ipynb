{
 "cells": [
  {
   "cell_type": "code",
   "execution_count": 17,
   "id": "prostate-elimination",
   "metadata": {
    "ExecuteTime": {
     "end_time": "2021-02-12T10:45:43.029879Z",
     "start_time": "2021-02-12T10:45:42.992102Z"
    }
   },
   "outputs": [],
   "source": [
    "from glob import glob\n",
    "from os import path\n",
    "import pandas as pd\n"
   ]
  },
  {
   "cell_type": "markdown",
   "id": "strategic-hardwood",
   "metadata": {},
   "source": [
    "List all files to explore"
   ]
  },
  {
   "cell_type": "code",
   "execution_count": 18,
   "id": "protecting-funds",
   "metadata": {
    "ExecuteTime": {
     "end_time": "2021-02-12T10:45:43.061142Z",
     "start_time": "2021-02-12T10:45:43.029879Z"
    },
    "scrolled": true
   },
   "outputs": [
    {
     "data": {
      "text/plain": [
       "['DB/institutes\\\\institutes_academiainstitute.csv',\n",
       " 'DB/institutes\\\\institutes_basicservicesupplierinstitute.csv',\n",
       " 'DB/institutes\\\\institutes_financialinstitute.csv',\n",
       " 'DB/institutes\\\\institutes_institute.csv',\n",
       " 'DB/institutes\\\\institutes_investorinstitute.csv',\n",
       " 'DB/institutes\\\\institutes_technicalassistanceinstitute.csv']"
      ]
     },
     "execution_count": 18,
     "metadata": {},
     "output_type": "execute_result"
    }
   ],
   "source": [
    "glob(path.join('DB/institutes','*.csv'))"
   ]
  },
  {
   "cell_type": "markdown",
   "id": "adopted-cincinnati",
   "metadata": {},
   "source": [
    "Ingest all files in the selected directory"
   ]
  },
  {
   "cell_type": "code",
   "execution_count": 19,
   "id": "together-rover",
   "metadata": {
    "ExecuteTime": {
     "end_time": "2021-02-12T10:45:43.246091Z",
     "start_time": "2021-02-12T10:45:43.061142Z"
    },
    "scrolled": false
   },
   "outputs": [
    {
     "name": "stdout",
     "output_type": "stream",
     "text": [
      "<class 'pandas.core.frame.DataFrame'>\n",
      "Int64Index: 123 entries, 0 to 12\n",
      "Data columns (total 37 columns):\n",
      " #   Column                            Non-Null Count  Dtype  \n",
      "---  ------                            --------------  -----  \n",
      " 0   id                                123 non-null    int64  \n",
      " 1   legal_status                      47 non-null     object \n",
      " 2   research_areas                    12 non-null     object \n",
      " 3   focus_areas                       32 non-null     object \n",
      " 4   impact_metrics                    25 non-null     object \n",
      " 5   regulated                         9 non-null      object \n",
      " 6   mixmarket_profile                 0 non-null      float64\n",
      " 7   services_offered                  11 non-null     object \n",
      " 8   non_financial_programs            11 non-null     object \n",
      " 9   main_funding_sources              11 non-null     object \n",
      " 10  current_financial_needs_currency  11 non-null     object \n",
      " 11  current_financial_needs           0 non-null      float64\n",
      " 12  funding_needed                    11 non-null     object \n",
      " 13  savings                           11 non-null     object \n",
      " 14  name                              73 non-null     object \n",
      " 15  short_name                        67 non-null     object \n",
      " 16  website_url                       73 non-null     object \n",
      " 17  date_of_establishment             62 non-null     object \n",
      " 18  total_number_of_staff             62 non-null     float64\n",
      " 19  object_id                         62 non-null     float64\n",
      " 20  address_id                        73 non-null     float64\n",
      " 21  content_type_id                   62 non-null     float64\n",
      " 22  type_id                           73 non-null     object \n",
      " 23  mission                           61 non-null     object \n",
      " 24  vision                            61 non-null     object \n",
      " 25  approved                          73 non-null     object \n",
      " 26  avatar                            1 non-null      object \n",
      " 27  portfolio_size                    6 non-null      object \n",
      " 28  funding_institution_type          6 non-null      object \n",
      " 29  funding_max                       6 non-null      float64\n",
      " 30  funding_max_currency              6 non-null      object \n",
      " 31  funding_min                       6 non-null      float64\n",
      " 32  funding_min_currency              6 non-null      object \n",
      " 33  funding_offered                   6 non-null      object \n",
      " 34  term_max                          6 non-null      float64\n",
      " 35  term_min                          6 non-null      float64\n",
      " 36  services                          13 non-null     object \n",
      "dtypes: float64(10), int64(1), object(26)\n",
      "memory usage: 36.5+ KB\n",
      "None\n"
     ]
    }
   ],
   "source": [
    "file_names = glob(path.join('DB/institutes','*.csv'))\n",
    "dfs = [pd.read_csv(fn) for fn in file_names]\n",
    "institutes_df = pd.concat(dfs)\n",
    "\n",
    "print(institutes_df.info())"
   ]
  },
  {
   "cell_type": "code",
   "execution_count": 20,
   "id": "divine-parade",
   "metadata": {
    "ExecuteTime": {
     "end_time": "2021-02-12T10:45:43.277376Z",
     "start_time": "2021-02-12T10:45:43.246091Z"
    }
   },
   "outputs": [
    {
     "name": "stdout",
     "output_type": "stream",
     "text": [
      "['id', 'legal_status', 'research_areas', 'focus_areas', 'impact_metrics', 'regulated', 'mixmarket_profile', 'services_offered', 'non_financial_programs', 'main_funding_sources', 'current_financial_needs_currency', 'current_financial_needs', 'funding_needed', 'savings', 'name', 'short_name', 'website_url', 'date_of_establishment', 'total_number_of_staff', 'object_id', 'address_id', 'content_type_id', 'type_id', 'mission', 'vision', 'approved', 'avatar', 'portfolio_size', 'funding_institution_type', 'funding_max', 'funding_max_currency', 'funding_min', 'funding_min_currency', 'funding_offered', 'term_max', 'term_min', 'services']\n"
     ]
    }
   ],
   "source": [
    "print(list(institutes_df.columns.values))"
   ]
  },
  {
   "cell_type": "markdown",
   "id": "cloudy-thumbnail",
   "metadata": {},
   "source": [
    "We will export the DataFrame to have a look using Excel. "
   ]
  },
  {
   "cell_type": "code",
   "execution_count": 21,
   "id": "naked-joshua",
   "metadata": {
    "ExecuteTime": {
     "end_time": "2021-02-12T10:45:43.308597Z",
     "start_time": "2021-02-12T10:45:43.277376Z"
    }
   },
   "outputs": [],
   "source": [
    "#institutes_df.to_csv('institutes_df.csv')"
   ]
  },
  {
   "cell_type": "markdown",
   "id": "aboriginal-tuition",
   "metadata": {},
   "source": [
    "According to this dataset, some fielda are not relevant to find the nearest neighbors (matches).\n",
    "This fields are:\n",
    "- id: this field is an identification number.\n",
    "- website_url: this field is a webpage.\n",
    "- date_of_establishment: this field is a date of establishment **might not be relevant. Or is it?**\n",
    "- address_id: this field looks like a running number. **Is it relevant?**\n",
    "- mission: this field is an open text. We could apply NLP to identify topics. **Maybe in a version 2 of the tool.**\n",
    "- vision: this field is an open text. We could apply NLP to identify topics. **Maybe in a version 2 of the tool.**\n",
    "- avatar: this field is an image."
   ]
  },
  {
   "cell_type": "code",
   "execution_count": 23,
   "id": "earlier-waters",
   "metadata": {
    "ExecuteTime": {
     "end_time": "2021-02-12T10:46:03.524831Z",
     "start_time": "2021-02-12T10:46:03.502660Z"
    }
   },
   "outputs": [],
   "source": [
    "institutes_df_short = institutes_df.drop(['website_url','date_of_establishment','address_id','mission','vision','avatar'], axis=1)"
   ]
  },
  {
   "cell_type": "markdown",
   "id": "primary-burlington",
   "metadata": {},
   "source": [
    "Replace all blancs (white spaces) with NaN"
   ]
  },
  {
   "cell_type": "code",
   "execution_count": 26,
   "id": "flying-logging",
   "metadata": {
    "ExecuteTime": {
     "end_time": "2021-02-12T10:49:00.036601Z",
     "start_time": "2021-02-12T10:48:59.998812Z"
    }
   },
   "outputs": [],
   "source": [
    "institutes_df_short = institutes_df_short.replace(r'^\\s*$', np.nan, regex=True)\n",
    "#print(institutes_df_short.head())"
   ]
  },
  {
   "cell_type": "markdown",
   "id": "protecting-current",
   "metadata": {},
   "source": [
    "Replace all empty strings {} with NaN"
   ]
  },
  {
   "cell_type": "code",
   "execution_count": 27,
   "id": "cosmetic-boxing",
   "metadata": {
    "ExecuteTime": {
     "end_time": "2021-02-12T10:50:07.530154Z",
     "start_time": "2021-02-12T10:50:07.483262Z"
    }
   },
   "outputs": [],
   "source": [
    "institutes_df_short = institutes_df_short.replace('{}', np.nan, regex=True)"
   ]
  },
  {
   "cell_type": "code",
   "execution_count": 52,
   "id": "coated-material",
   "metadata": {
    "ExecuteTime": {
     "end_time": "2021-02-12T11:21:36.564423Z",
     "start_time": "2021-02-12T11:21:36.479790Z"
    }
   },
   "outputs": [],
   "source": [
    "# summarize the number of rows with missing values for each column\n",
    "for i in range(institutes_df_short.shape[1]):\n",
    "    # count number of rows with missing values\n",
    "    n_miss = institutes_df_short.loc[i].isnull().sum()\n",
    "    perc = n_miss / institutes_df_short.shape[0] * 100\n",
    "    #print('> %d, Missing: %d (%.1f%%)' % (i, n_miss, perc))"
   ]
  },
  {
   "cell_type": "markdown",
   "id": "stable-spell",
   "metadata": {},
   "source": [
    "Let's check in Excel..."
   ]
  },
  {
   "cell_type": "code",
   "execution_count": 28,
   "id": "bearing-bernard",
   "metadata": {
    "ExecuteTime": {
     "end_time": "2021-02-12T10:50:51.617130Z",
     "start_time": "2021-02-12T10:50:51.585856Z"
    }
   },
   "outputs": [],
   "source": [
    "institutes_df_short.to_csv('institutes_df_short.csv')"
   ]
  },
  {
   "cell_type": "code",
   "execution_count": 53,
   "id": "suspended-singles",
   "metadata": {
    "ExecuteTime": {
     "end_time": "2021-02-12T11:22:47.897356Z",
     "start_time": "2021-02-12T11:22:47.819211Z"
    }
   },
   "outputs": [
    {
     "data": {
      "text/html": [
       "<div>\n",
       "<style scoped>\n",
       "    .dataframe tbody tr th:only-of-type {\n",
       "        vertical-align: middle;\n",
       "    }\n",
       "\n",
       "    .dataframe tbody tr th {\n",
       "        vertical-align: top;\n",
       "    }\n",
       "\n",
       "    .dataframe thead th {\n",
       "        text-align: right;\n",
       "    }\n",
       "</style>\n",
       "<table border=\"1\" class=\"dataframe\">\n",
       "  <thead>\n",
       "    <tr style=\"text-align: right;\">\n",
       "      <th></th>\n",
       "      <th>id</th>\n",
       "      <th>legal_status</th>\n",
       "      <th>research_areas</th>\n",
       "      <th>focus_areas</th>\n",
       "      <th>impact_metrics</th>\n",
       "      <th>regulated</th>\n",
       "      <th>mixmarket_profile</th>\n",
       "      <th>services_offered</th>\n",
       "      <th>non_financial_programs</th>\n",
       "      <th>main_funding_sources</th>\n",
       "      <th>...</th>\n",
       "      <th>portfolio_size</th>\n",
       "      <th>funding_institution_type</th>\n",
       "      <th>funding_max</th>\n",
       "      <th>funding_max_currency</th>\n",
       "      <th>funding_min</th>\n",
       "      <th>funding_min_currency</th>\n",
       "      <th>funding_offered</th>\n",
       "      <th>term_max</th>\n",
       "      <th>term_min</th>\n",
       "      <th>services</th>\n",
       "    </tr>\n",
       "  </thead>\n",
       "  <tbody>\n",
       "    <tr>\n",
       "      <th>0</th>\n",
       "      <td>1</td>\n",
       "      <td>University</td>\n",
       "      <td>{\"Food security\",Water,Housing,Clothing,Sanita...</td>\n",
       "      <td>NaN</td>\n",
       "      <td>NaN</td>\n",
       "      <td>NaN</td>\n",
       "      <td>NaN</td>\n",
       "      <td>NaN</td>\n",
       "      <td>NaN</td>\n",
       "      <td>NaN</td>\n",
       "      <td>...</td>\n",
       "      <td>NaN</td>\n",
       "      <td>NaN</td>\n",
       "      <td>NaN</td>\n",
       "      <td>NaN</td>\n",
       "      <td>NaN</td>\n",
       "      <td>NaN</td>\n",
       "      <td>NaN</td>\n",
       "      <td>NaN</td>\n",
       "      <td>NaN</td>\n",
       "      <td>NaN</td>\n",
       "    </tr>\n",
       "    <tr>\n",
       "      <th>1</th>\n",
       "      <td>2</td>\n",
       "      <td>R&amp;D of private company</td>\n",
       "      <td>{\"Food security\",Water,Housing,Clothing}</td>\n",
       "      <td>NaN</td>\n",
       "      <td>NaN</td>\n",
       "      <td>NaN</td>\n",
       "      <td>NaN</td>\n",
       "      <td>NaN</td>\n",
       "      <td>NaN</td>\n",
       "      <td>NaN</td>\n",
       "      <td>...</td>\n",
       "      <td>NaN</td>\n",
       "      <td>NaN</td>\n",
       "      <td>NaN</td>\n",
       "      <td>NaN</td>\n",
       "      <td>NaN</td>\n",
       "      <td>NaN</td>\n",
       "      <td>NaN</td>\n",
       "      <td>NaN</td>\n",
       "      <td>NaN</td>\n",
       "      <td>NaN</td>\n",
       "    </tr>\n",
       "    <tr>\n",
       "      <th>2</th>\n",
       "      <td>3</td>\n",
       "      <td>R&amp;D of NGO</td>\n",
       "      <td>{\"Food security\",Water,Housing,Clothing,Sanita...</td>\n",
       "      <td>NaN</td>\n",
       "      <td>NaN</td>\n",
       "      <td>NaN</td>\n",
       "      <td>NaN</td>\n",
       "      <td>NaN</td>\n",
       "      <td>NaN</td>\n",
       "      <td>NaN</td>\n",
       "      <td>...</td>\n",
       "      <td>NaN</td>\n",
       "      <td>NaN</td>\n",
       "      <td>NaN</td>\n",
       "      <td>NaN</td>\n",
       "      <td>NaN</td>\n",
       "      <td>NaN</td>\n",
       "      <td>NaN</td>\n",
       "      <td>NaN</td>\n",
       "      <td>NaN</td>\n",
       "      <td>NaN</td>\n",
       "    </tr>\n",
       "    <tr>\n",
       "      <th>3</th>\n",
       "      <td>4</td>\n",
       "      <td>University</td>\n",
       "      <td>{\"Food security\",Water}</td>\n",
       "      <td>NaN</td>\n",
       "      <td>NaN</td>\n",
       "      <td>NaN</td>\n",
       "      <td>NaN</td>\n",
       "      <td>NaN</td>\n",
       "      <td>NaN</td>\n",
       "      <td>NaN</td>\n",
       "      <td>...</td>\n",
       "      <td>NaN</td>\n",
       "      <td>NaN</td>\n",
       "      <td>NaN</td>\n",
       "      <td>NaN</td>\n",
       "      <td>NaN</td>\n",
       "      <td>NaN</td>\n",
       "      <td>NaN</td>\n",
       "      <td>NaN</td>\n",
       "      <td>NaN</td>\n",
       "      <td>NaN</td>\n",
       "    </tr>\n",
       "    <tr>\n",
       "      <th>4</th>\n",
       "      <td>5</td>\n",
       "      <td>Research institute</td>\n",
       "      <td>{\"Food security\",Water,Housing,Clothing,Sanita...</td>\n",
       "      <td>NaN</td>\n",
       "      <td>NaN</td>\n",
       "      <td>NaN</td>\n",
       "      <td>NaN</td>\n",
       "      <td>NaN</td>\n",
       "      <td>NaN</td>\n",
       "      <td>NaN</td>\n",
       "      <td>...</td>\n",
       "      <td>NaN</td>\n",
       "      <td>NaN</td>\n",
       "      <td>NaN</td>\n",
       "      <td>NaN</td>\n",
       "      <td>NaN</td>\n",
       "      <td>NaN</td>\n",
       "      <td>NaN</td>\n",
       "      <td>NaN</td>\n",
       "      <td>NaN</td>\n",
       "      <td>NaN</td>\n",
       "    </tr>\n",
       "  </tbody>\n",
       "</table>\n",
       "<p>5 rows × 31 columns</p>\n",
       "</div>"
      ],
      "text/plain": [
       "   id            legal_status  \\\n",
       "0   1              University   \n",
       "1   2  R&D of private company   \n",
       "2   3              R&D of NGO   \n",
       "3   4              University   \n",
       "4   5      Research institute   \n",
       "\n",
       "                                      research_areas focus_areas  \\\n",
       "0  {\"Food security\",Water,Housing,Clothing,Sanita...         NaN   \n",
       "1           {\"Food security\",Water,Housing,Clothing}         NaN   \n",
       "2  {\"Food security\",Water,Housing,Clothing,Sanita...         NaN   \n",
       "3                            {\"Food security\",Water}         NaN   \n",
       "4  {\"Food security\",Water,Housing,Clothing,Sanita...         NaN   \n",
       "\n",
       "  impact_metrics regulated  mixmarket_profile services_offered  \\\n",
       "0            NaN       NaN                NaN              NaN   \n",
       "1            NaN       NaN                NaN              NaN   \n",
       "2            NaN       NaN                NaN              NaN   \n",
       "3            NaN       NaN                NaN              NaN   \n",
       "4            NaN       NaN                NaN              NaN   \n",
       "\n",
       "  non_financial_programs main_funding_sources  ... portfolio_size  \\\n",
       "0                    NaN                  NaN  ...            NaN   \n",
       "1                    NaN                  NaN  ...            NaN   \n",
       "2                    NaN                  NaN  ...            NaN   \n",
       "3                    NaN                  NaN  ...            NaN   \n",
       "4                    NaN                  NaN  ...            NaN   \n",
       "\n",
       "   funding_institution_type funding_max funding_max_currency funding_min  \\\n",
       "0                       NaN         NaN                  NaN         NaN   \n",
       "1                       NaN         NaN                  NaN         NaN   \n",
       "2                       NaN         NaN                  NaN         NaN   \n",
       "3                       NaN         NaN                  NaN         NaN   \n",
       "4                       NaN         NaN                  NaN         NaN   \n",
       "\n",
       "  funding_min_currency  funding_offered  term_max  term_min services  \n",
       "0                  NaN              NaN       NaN       NaN      NaN  \n",
       "1                  NaN              NaN       NaN       NaN      NaN  \n",
       "2                  NaN              NaN       NaN       NaN      NaN  \n",
       "3                  NaN              NaN       NaN       NaN      NaN  \n",
       "4                  NaN              NaN       NaN       NaN      NaN  \n",
       "\n",
       "[5 rows x 31 columns]"
      ]
     },
     "execution_count": 53,
     "metadata": {},
     "output_type": "execute_result"
    }
   ],
   "source": [
    "institutes_df_short.head()"
   ]
  },
  {
   "cell_type": "markdown",
   "id": "spare-stake",
   "metadata": {},
   "source": [
    "To devide the categorical data into dummy variables we need to convert only the variables of type 'object'"
   ]
  },
  {
   "cell_type": "code",
   "execution_count": 31,
   "id": "bizarre-collector",
   "metadata": {
    "ExecuteTime": {
     "end_time": "2021-02-12T10:57:30.552372Z",
     "start_time": "2021-02-12T10:57:30.521155Z"
    }
   },
   "outputs": [
    {
     "name": "stdout",
     "output_type": "stream",
     "text": [
      "['legal_status', 'research_areas', 'focus_areas', 'impact_metrics', 'regulated', 'services_offered', 'non_financial_programs', 'main_funding_sources', 'current_financial_needs_currency', 'funding_needed', 'savings', 'name', 'short_name', 'type_id', 'approved', 'portfolio_size', 'funding_institution_type', 'funding_max_currency', 'funding_min_currency', 'funding_offered', 'services']\n"
     ]
    }
   ],
   "source": [
    "# Make a list of column names for variables of the type object\n",
    "object_variables = list(institutes_df_short.select_dtypes(include=['object']).columns)\n",
    "print(object_variables)"
   ]
  },
  {
   "cell_type": "code",
   "execution_count": 41,
   "id": "exact-inspector",
   "metadata": {
    "ExecuteTime": {
     "end_time": "2021-02-12T11:04:57.795563Z",
     "start_time": "2021-02-12T11:04:57.779933Z"
    }
   },
   "outputs": [
    {
     "name": "stdout",
     "output_type": "stream",
     "text": [
      "['id']\n"
     ]
    }
   ],
   "source": [
    "# Let's check the column names for variables of the type int64\n",
    "\n",
    "print(list(institutes_df_short.select_dtypes(include=['int64']).columns))"
   ]
  },
  {
   "cell_type": "code",
   "execution_count": 42,
   "id": "hundred-balance",
   "metadata": {
    "ExecuteTime": {
     "end_time": "2021-02-12T11:05:12.784484Z",
     "start_time": "2021-02-12T11:05:12.762294Z"
    }
   },
   "outputs": [
    {
     "name": "stdout",
     "output_type": "stream",
     "text": [
      "['mixmarket_profile', 'current_financial_needs', 'total_number_of_staff', 'object_id', 'content_type_id', 'funding_max', 'funding_min', 'term_max', 'term_min']\n"
     ]
    }
   ],
   "source": [
    "# Let's check the column names for variables of the type float\n",
    "\n",
    "print(list(institutes_df_short.select_dtypes(include=['float']).columns))"
   ]
  },
  {
   "cell_type": "code",
   "execution_count": 36,
   "id": "simple-nation",
   "metadata": {
    "ExecuteTime": {
     "end_time": "2021-02-12T11:00:08.651456Z",
     "start_time": "2021-02-12T11:00:08.566733Z"
    }
   },
   "outputs": [],
   "source": [
    "X = pd.get_dummies(institutes_df_short, columns=object_variables)"
   ]
  },
  {
   "cell_type": "markdown",
   "id": "employed-demand",
   "metadata": {},
   "source": [
    "Let's check in Excel..."
   ]
  },
  {
   "cell_type": "code",
   "execution_count": 37,
   "id": "hindu-seventh",
   "metadata": {
    "ExecuteTime": {
     "end_time": "2021-02-12T11:00:36.224269Z",
     "start_time": "2021-02-12T11:00:36.177376Z"
    }
   },
   "outputs": [],
   "source": [
    "X.to_csv('X.csv')"
   ]
  },
  {
   "cell_type": "code",
   "execution_count": 43,
   "id": "vital-roulette",
   "metadata": {
    "ExecuteTime": {
     "end_time": "2021-02-12T11:05:47.286272Z",
     "start_time": "2021-02-12T11:05:47.270622Z"
    }
   },
   "outputs": [],
   "source": [
    "# print(list(X.columns.values))"
   ]
  },
  {
   "cell_type": "code",
   "execution_count": null,
   "id": "cooked-hungarian",
   "metadata": {},
   "outputs": [],
   "source": []
  }
 ],
 "metadata": {
  "kernelspec": {
   "display_name": "Python 3",
   "language": "python",
   "name": "python3"
  },
  "language_info": {
   "codemirror_mode": {
    "name": "ipython",
    "version": 3
   },
   "file_extension": ".py",
   "mimetype": "text/x-python",
   "name": "python",
   "nbconvert_exporter": "python",
   "pygments_lexer": "ipython3",
   "version": "3.8.6"
  },
  "toc": {
   "base_numbering": 1,
   "nav_menu": {},
   "number_sections": true,
   "sideBar": true,
   "skip_h1_title": false,
   "title_cell": "Table of Contents",
   "title_sidebar": "Contents",
   "toc_cell": false,
   "toc_position": {},
   "toc_section_display": true,
   "toc_window_display": false
  },
  "varInspector": {
   "cols": {
    "lenName": 16,
    "lenType": 16,
    "lenVar": 40
   },
   "kernels_config": {
    "python": {
     "delete_cmd_postfix": "",
     "delete_cmd_prefix": "del ",
     "library": "var_list.py",
     "varRefreshCmd": "print(var_dic_list())"
    },
    "r": {
     "delete_cmd_postfix": ") ",
     "delete_cmd_prefix": "rm(",
     "library": "var_list.r",
     "varRefreshCmd": "cat(var_dic_list()) "
    }
   },
   "types_to_exclude": [
    "module",
    "function",
    "builtin_function_or_method",
    "instance",
    "_Feature"
   ],
   "window_display": false
  }
 },
 "nbformat": 4,
 "nbformat_minor": 5
}
