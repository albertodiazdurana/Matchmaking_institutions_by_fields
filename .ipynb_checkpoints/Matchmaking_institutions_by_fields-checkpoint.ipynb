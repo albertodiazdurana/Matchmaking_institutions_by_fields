{
 "cells": [
  {
   "cell_type": "code",
   "execution_count": 24,
   "id": "prostate-elimination",
   "metadata": {
    "ExecuteTime": {
     "end_time": "2021-03-18T09:46:32.326660Z",
     "start_time": "2021-03-18T09:46:32.304654Z"
    }
   },
   "outputs": [],
   "source": [
    "from glob import glob\n",
    "from os import path\n",
    "import pandas as pd\n",
    "from functools import reduce\n",
    "from sklearn.neighbors import NearestNeighbors"
   ]
  },
  {
   "cell_type": "markdown",
   "id": "hawaiian-central",
   "metadata": {
    "ExecuteTime": {
     "end_time": "2021-03-18T05:34:43.209340Z",
     "start_time": "2021-03-18T05:34:43.189065Z"
    }
   },
   "source": [
    "# Import data"
   ]
  },
  {
   "cell_type": "markdown",
   "id": "strategic-hardwood",
   "metadata": {},
   "source": [
    "List all files to explore"
   ]
  },
  {
   "cell_type": "code",
   "execution_count": 25,
   "id": "protecting-funds",
   "metadata": {
    "ExecuteTime": {
     "end_time": "2021-03-18T09:46:32.358657Z",
     "start_time": "2021-03-18T09:46:32.333658Z"
    },
    "scrolled": true
   },
   "outputs": [
    {
     "data": {
      "text/plain": [
       "['DB/institutes\\\\institutes_academiainstitute.csv',\n",
       " 'DB/institutes\\\\institutes_basicservicesupplierinstitute.csv',\n",
       " 'DB/institutes\\\\institutes_financialinstitute.csv',\n",
       " 'DB/institutes\\\\institutes_institute.csv',\n",
       " 'DB/institutes\\\\institutes_investorinstitute.csv',\n",
       " 'DB/institutes\\\\institutes_technicalassistanceinstitute.csv']"
      ]
     },
     "execution_count": 25,
     "metadata": {},
     "output_type": "execute_result"
    }
   ],
   "source": [
    "glob(path.join('DB/institutes','*.csv'))"
   ]
  },
  {
   "cell_type": "markdown",
   "id": "adopted-cincinnati",
   "metadata": {},
   "source": [
    "Ingest all files in the selected directory"
   ]
  },
  {
   "cell_type": "code",
   "execution_count": 26,
   "id": "together-rover",
   "metadata": {
    "ExecuteTime": {
     "end_time": "2021-03-18T09:46:32.469653Z",
     "start_time": "2021-03-18T09:46:32.366661Z"
    },
    "scrolled": true
   },
   "outputs": [],
   "source": [
    "file_names = glob(path.join('DB/institutes','*.csv'))\n",
    "dfs = [pd.read_csv(fn) for fn in file_names]\n",
    "institutes_df = pd.concat(dfs)\n",
    "\n",
    "#print(institutes_df.info())"
   ]
  },
  {
   "cell_type": "code",
   "execution_count": 27,
   "id": "divine-parade",
   "metadata": {
    "ExecuteTime": {
     "end_time": "2021-03-18T09:46:32.485658Z",
     "start_time": "2021-03-18T09:46:32.477661Z"
    },
    "scrolled": true
   },
   "outputs": [],
   "source": [
    "#print(list(institutes_df.columns.values))"
   ]
  },
  {
   "cell_type": "markdown",
   "id": "cloudy-thumbnail",
   "metadata": {},
   "source": [
    "We will export the DataFrame to have a look using Excel. "
   ]
  },
  {
   "cell_type": "code",
   "execution_count": 28,
   "id": "naked-joshua",
   "metadata": {
    "ExecuteTime": {
     "end_time": "2021-03-18T09:46:32.516655Z",
     "start_time": "2021-03-18T09:46:32.493655Z"
    }
   },
   "outputs": [],
   "source": [
    "#institutes_df.to_csv('institutes_df.csv')"
   ]
  },
  {
   "cell_type": "markdown",
   "id": "aboriginal-tuition",
   "metadata": {},
   "source": [
    "According to this dataset, some fielda are not relevant to find the nearest neighbors (matches).\n",
    "This fields are:\n",
    "- id: this field is an identification number.\n",
    "- website_url: this field is a webpage.\n",
    "- date_of_establishment: this field is a date of establishment **might not be relevant. Or is it?**\n",
    "- address_id: this field looks like a running number. **Is it relevant?**\n",
    "- mission: this field is an open text. We could apply NLP to identify topics. **Maybe in a version 2 of the tool.**\n",
    "- vision: this field is an open text. We could apply NLP to identify topics. **Maybe in a version 2 of the tool.**\n",
    "- avatar: this field is an image."
   ]
  },
  {
   "cell_type": "markdown",
   "id": "unable-defense",
   "metadata": {
    "ExecuteTime": {
     "end_time": "2021-03-18T05:35:38.576829Z",
     "start_time": "2021-03-18T05:35:38.568828Z"
    }
   },
   "source": [
    "# Build DataFrame with relevant features"
   ]
  },
  {
   "cell_type": "code",
   "execution_count": 29,
   "id": "earlier-waters",
   "metadata": {
    "ExecuteTime": {
     "end_time": "2021-03-18T09:46:32.548656Z",
     "start_time": "2021-03-18T09:46:32.527659Z"
    }
   },
   "outputs": [],
   "source": [
    "institutes_df_short = institutes_df.drop(['website_url','date_of_establishment','address_id','mission','vision','avatar'], axis=1)"
   ]
  },
  {
   "cell_type": "markdown",
   "id": "primary-burlington",
   "metadata": {},
   "source": [
    "Replace all blancs (white spaces) with an empty string [ ]"
   ]
  },
  {
   "cell_type": "code",
   "execution_count": 30,
   "id": "flying-logging",
   "metadata": {
    "ExecuteTime": {
     "end_time": "2021-03-18T09:46:32.595651Z",
     "start_time": "2021-03-18T09:46:32.558658Z"
    }
   },
   "outputs": [],
   "source": [
    "institutes_df_short = institutes_df_short.replace(r'^\\s*$', np.nan, regex=True)\n",
    "#print(institutes_df_short.head())"
   ]
  },
  {
   "cell_type": "markdown",
   "id": "protecting-current",
   "metadata": {},
   "source": [
    "Replace all empty strings {} with NaN"
   ]
  },
  {
   "cell_type": "markdown",
   "id": "stable-spell",
   "metadata": {},
   "source": [
    "Let's check in Excel..."
   ]
  },
  {
   "cell_type": "code",
   "execution_count": 31,
   "id": "bearing-bernard",
   "metadata": {
    "ExecuteTime": {
     "end_time": "2021-03-18T09:46:32.611659Z",
     "start_time": "2021-03-18T09:46:32.601661Z"
    }
   },
   "outputs": [],
   "source": [
    "#institutes_df_short.to_csv('institutes_df_short.csv')"
   ]
  },
  {
   "cell_type": "code",
   "execution_count": 32,
   "id": "suspended-singles",
   "metadata": {
    "ExecuteTime": {
     "end_time": "2021-03-18T09:46:32.643656Z",
     "start_time": "2021-03-18T09:46:32.620659Z"
    },
    "scrolled": false
   },
   "outputs": [],
   "source": [
    "#print(institutes_df_short)"
   ]
  },
  {
   "cell_type": "markdown",
   "id": "excited-profile",
   "metadata": {
    "ExecuteTime": {
     "end_time": "2021-03-18T05:37:42.462630Z",
     "start_time": "2021-03-18T05:37:42.441625Z"
    }
   },
   "source": [
    "# Split DataFrame with features of type \"object\""
   ]
  },
  {
   "cell_type": "markdown",
   "id": "compliant-engagement",
   "metadata": {
    "ExecuteTime": {
     "end_time": "2021-03-16T14:24:46.400940Z",
     "start_time": "2021-03-16T14:24:46.372507Z"
    }
   },
   "source": [
    "Let's separate the columns containing dtype == object to prepare the list to a standard form. This step will not generate yet an object recognized as a string.\n",
    "Now, clean the strings from inconsistant characters such as brackets, quotatios, curly brackets, etc."
   ]
  },
  {
   "cell_type": "code",
   "execution_count": 33,
   "id": "annual-astronomy",
   "metadata": {
    "ExecuteTime": {
     "end_time": "2021-03-18T09:46:32.991659Z",
     "start_time": "2021-03-18T09:46:32.649659Z"
    },
    "scrolled": true
   },
   "outputs": [],
   "source": [
    "institutes_df_short = institutes_df_short.loc[:,institutes_df_short.dtypes==object].replace(np.nan, \"[]\",regex=True)\n",
    "institutes_df_short = institutes_df_short.loc[:,institutes_df_short.dtypes==object].apply(lambda s:s.str.replace('\"', \"\",regex=True))\n",
    "institutes_df_short = institutes_df_short.loc[:,institutes_df_short.dtypes==object].apply(lambda s:s.str.replace('{', \"[\",regex=True))\n",
    "institutes_df_short = institutes_df_short.loc[:,institutes_df_short.dtypes==object].apply(lambda s:s.str.replace('}', \"]\",regex=True))\n",
    "institutes_df_short = institutes_df_short.loc[:,institutes_df_short.dtypes==object].apply(lambda s:s.str.replace(', ', '\",\"',regex=True))\n",
    "institutes_df_short = institutes_df_short.loc[:,institutes_df_short.dtypes==object].apply(lambda s:s.str.replace(',', '\",\"',regex=True))\n",
    "institutes_df_short = institutes_df_short.loc[:,institutes_df_short.dtypes==object].apply(lambda s:s.str.replace('[', '\"',regex=True))\n",
    "institutes_df_short = institutes_df_short.loc[:,institutes_df_short.dtypes==object].apply(lambda s:s.str.replace(']', '\"',regex=True))\n",
    "#institutes_df_short.head(20)"
   ]
  },
  {
   "cell_type": "markdown",
   "id": "pursuant-contents",
   "metadata": {},
   "source": [
    "After this first step, our lists are finally recognized as such by Pandas. Still, we can not use the standard functions, because they are not made for list applications."
   ]
  },
  {
   "cell_type": "code",
   "execution_count": 34,
   "id": "simplified-eight",
   "metadata": {
    "ExecuteTime": {
     "end_time": "2021-03-18T09:46:36.564900Z",
     "start_time": "2021-03-18T09:46:32.997662Z"
    },
    "scrolled": true
   },
   "outputs": [],
   "source": [
    "dfs = []\n",
    "for index, column in enumerate(institutes_df_short):\n",
    "    col_names = np.arange(0, len(pd.DataFrame(institutes_df_short.iloc[:,index].apply(lambda x: x[0:].split(',')).apply(pd.Series)).columns)).astype(str)\n",
    "    df = institutes_df_short[column].apply(lambda x: x[0:].split(',')).apply(pd.Series).replace('\"\"', np.nan,regex=True).reset_index(drop=True)\n",
    "    df.columns = [\"{}{}\".format(column, i) for i in col_names]\n",
    "    dfs.append(df)\n",
    "#dfs"
   ]
  },
  {
   "cell_type": "code",
   "execution_count": 35,
   "id": "south-ratio",
   "metadata": {
    "ExecuteTime": {
     "end_time": "2021-03-18T09:46:36.689011Z",
     "start_time": "2021-03-18T09:46:36.566961Z"
    },
    "scrolled": true
   },
   "outputs": [],
   "source": [
    "# to merge the array of DataFrames into a single Dataframe\n",
    "\n",
    "institutes_df_short_o = reduce(lambda x,y: pd.merge(x,y, left_index=True, right_index=True), dfs)\n",
    "#institutes_df_short_o"
   ]
  },
  {
   "cell_type": "markdown",
   "id": "hybrid-extra",
   "metadata": {
    "ExecuteTime": {
     "end_time": "2021-03-18T05:45:36.955057Z",
     "start_time": "2021-03-18T05:45:36.946054Z"
    }
   },
   "source": [
    "# Split DataFrame with features not of type \"object\""
   ]
  },
  {
   "cell_type": "markdown",
   "id": "mature-memorial",
   "metadata": {},
   "source": [
    "Now, let's separate the columns containing dtype != object to include to the dataframe with the lists created in the step before."
   ]
  },
  {
   "cell_type": "code",
   "execution_count": 36,
   "id": "sufficient-remove",
   "metadata": {
    "ExecuteTime": {
     "end_time": "2021-03-18T09:46:36.717421Z",
     "start_time": "2021-03-18T09:46:36.697090Z"
    },
    "scrolled": false
   },
   "outputs": [],
   "source": [
    "institutes_df_short_no = institutes_df.loc[:,institutes_df.dtypes!=object]\n",
    "#institutes_df_short_no.info()"
   ]
  },
  {
   "cell_type": "markdown",
   "id": "ready-coverage",
   "metadata": {},
   "source": [
    "# One hot encoding "
   ]
  },
  {
   "cell_type": "markdown",
   "id": "spare-stake",
   "metadata": {},
   "source": [
    "To devide the categorical data into dummy variables we need to convert only the variables of type 'object'"
   ]
  },
  {
   "cell_type": "code",
   "execution_count": 37,
   "id": "bizarre-collector",
   "metadata": {
    "ExecuteTime": {
     "end_time": "2021-03-18T09:46:36.737717Z",
     "start_time": "2021-03-18T09:46:36.719484Z"
    }
   },
   "outputs": [],
   "source": [
    "# Make a list of column names for variables of the type object\n",
    "object_variables = list(institutes_df_short_o.columns)\n",
    "#print(object_variables)"
   ]
  },
  {
   "cell_type": "code",
   "execution_count": 38,
   "id": "simple-nation",
   "metadata": {
    "ExecuteTime": {
     "end_time": "2021-03-18T09:46:37.047382Z",
     "start_time": "2021-03-18T09:46:36.754915Z"
    }
   },
   "outputs": [],
   "source": [
    "Cat_X = pd.get_dummies(institutes_df_short_o, columns=object_variables)"
   ]
  },
  {
   "cell_type": "markdown",
   "id": "employed-demand",
   "metadata": {},
   "source": [
    "Let's check in Excel..."
   ]
  },
  {
   "cell_type": "code",
   "execution_count": 39,
   "id": "hindu-seventh",
   "metadata": {
    "ExecuteTime": {
     "end_time": "2021-03-18T09:46:37.070603Z",
     "start_time": "2021-03-18T09:46:37.059382Z"
    }
   },
   "outputs": [],
   "source": [
    "#Cat_X.to_csv('Cat_X.csv')"
   ]
  },
  {
   "cell_type": "markdown",
   "id": "illegal-sacramento",
   "metadata": {
    "ExecuteTime": {
     "end_time": "2021-03-18T07:02:34.596654Z",
     "start_time": "2021-03-18T07:02:34.588655Z"
    }
   },
   "source": [
    "# Mergeing categorical and non-categorical DataFrames"
   ]
  },
  {
   "cell_type": "code",
   "execution_count": 40,
   "id": "ancient-purpose",
   "metadata": {
    "ExecuteTime": {
     "end_time": "2021-03-18T09:46:37.098992Z",
     "start_time": "2021-03-18T09:46:37.080744Z"
    }
   },
   "outputs": [],
   "source": [
    "not_object_variables = list(institutes_df_short_no.columns)\n",
    "#print(not_object_variables)"
   ]
  },
  {
   "cell_type": "code",
   "execution_count": 41,
   "id": "graphic-parish",
   "metadata": {
    "ExecuteTime": {
     "end_time": "2021-03-18T09:46:37.119286Z",
     "start_time": "2021-03-18T09:46:37.101044Z"
    }
   },
   "outputs": [],
   "source": [
    "# Saving the column id in a DataFrame\n",
    "id_X = institutes_df_short_no['id']"
   ]
  },
  {
   "cell_type": "code",
   "execution_count": 42,
   "id": "defined-certification",
   "metadata": {
    "ExecuteTime": {
     "end_time": "2021-03-18T09:46:37.159910Z",
     "start_time": "2021-03-18T09:46:37.129413Z"
    }
   },
   "outputs": [],
   "source": [
    "# Redefining the DataFrame with non categorical values removing the column id\n",
    "nonCat_X = institutes_df_short_no.drop(['id', 'mixmarket_profile', 'current_financial_needs','object_id', 'address_id', 'content_type_id'], axis=1)\n",
    "#nonCat_X.to_csv('nonCat_X.csv')"
   ]
  },
  {
   "cell_type": "code",
   "execution_count": 43,
   "id": "chicken-edition",
   "metadata": {
    "ExecuteTime": {
     "end_time": "2021-03-18T09:46:37.268316Z",
     "start_time": "2021-03-18T09:46:37.161972Z"
    }
   },
   "outputs": [],
   "source": [
    "X = reduce(lambda x,y: pd.merge(x,y, left_index=True, right_index=True), [Cat_X,nonCat_X]).replace(np.nan, 0)\n",
    "#X.to_csv('X.csv')\n",
    "#X"
   ]
  },
  {
   "cell_type": "markdown",
   "id": "authorized-phoenix",
   "metadata": {},
   "source": [
    "# Nearest neighbors KNN"
   ]
  },
  {
   "cell_type": "code",
   "execution_count": 44,
   "id": "mature-banks",
   "metadata": {
    "ExecuteTime": {
     "end_time": "2021-03-18T09:46:37.332330Z",
     "start_time": "2021-03-18T09:46:37.277317Z"
    }
   },
   "outputs": [],
   "source": [
    "# Finding the K nearest neighbors, where number of neighbors is selected in n_neighbors\n",
    "\n",
    "nbrs = NearestNeighbors(n_neighbors=5, algorithm='auto').fit(X)\n",
    "distances, indices = nbrs.kneighbors(X)"
   ]
  },
  {
   "cell_type": "code",
   "execution_count": 45,
   "id": "necessary-purse",
   "metadata": {
    "ExecuteTime": {
     "end_time": "2021-03-18T09:46:37.347314Z",
     "start_time": "2021-03-18T09:46:37.339323Z"
    }
   },
   "outputs": [],
   "source": [
    "#indices.shape"
   ]
  },
  {
   "cell_type": "code",
   "execution_count": 47,
   "id": "hundred-clearance",
   "metadata": {
    "ExecuteTime": {
     "end_time": "2021-03-18T09:47:00.090606Z",
     "start_time": "2021-03-18T09:47:00.064605Z"
    }
   },
   "outputs": [
    {
     "name": "stdout",
     "output_type": "stream",
     "text": [
      "[[  5   1   2   0  12]\n",
      " [  5   1   2   0  12]\n",
      " [  5   1   2   0  12]\n",
      " [  3  73  15  96  88]\n",
      " [  4  28  22  10   1]\n",
      " [  5   1   2   0  12]\n",
      " [  8   7   6  11  40]\n",
      " [  8   7   6  11  40]\n",
      " [  8   7   6  11  40]\n",
      " [  9  52  39  81  44]\n",
      " [ 10  28  22  16   4]\n",
      " [  8   7   6  11  40]\n",
      " [ 12  13  14  17  32]\n",
      " [ 12  13  14  17  32]\n",
      " [ 12  13  14  17  32]\n",
      " [ 15  73  96   3  88]\n",
      " [ 16  10  22  28  13]\n",
      " [ 12  13  14  17  32]\n",
      " [ 23  18  20  19  60]\n",
      " [ 23  18  20  19  60]\n",
      " [ 23  18  20  19  60]\n",
      " [ 21  78  71  82  87]\n",
      " [ 22  10  28  16   4]\n",
      " [ 23  18  20  19  60]\n",
      " [ 29  25  26  24  36]\n",
      " [ 29  25  26  24  36]\n",
      " [ 29  25  26  24  36]\n",
      " [ 27  29  25  26  24]\n",
      " [ 28  10  22   4  16]\n",
      " [ 29  25  26  24  36]\n",
      " [ 32  35  31  30  34]\n",
      " [ 32  35  31  30  34]\n",
      " [ 32  35  31  30  34]\n",
      " [ 33  69  89 107  68]\n",
      " [ 32  35  31  30  34]\n",
      " [ 32  35  31  30  34]\n",
      " [ 36  37  38  40   7]\n",
      " [ 36  37  38  40   7]\n",
      " [ 36  37  38  40   7]\n",
      " [ 39  52  44   9  84]\n",
      " [ 36  37  38  40   7]\n",
      " [ 45  42  41  43  31]\n",
      " [ 45  42  41  43  31]\n",
      " [ 45  42  41  43  31]\n",
      " [ 44  84 118  39  70]\n",
      " [ 45  42  41  43  31]\n",
      " [ 47  46  49  60  58]\n",
      " [ 47  46  49  60  58]\n",
      " [ 48  59  92  79   3]\n",
      " [ 47  46  49  60  58]\n",
      " [ 51  53  50  54  57]\n",
      " [ 51  53  50  54  57]\n",
      " [ 52  39  44   9  84]\n",
      " [ 51  53  50  54  57]\n",
      " [ 54  57  55  58  51]\n",
      " [ 54  57  55  58  51]\n",
      " [ 56  93 101  83  75]\n",
      " [ 54  57  55  58  51]\n",
      " [ 58  60  53  55  57]\n",
      " [ 59  48  92  79   3]\n",
      " [ 58  60  53  55  57]\n",
      " [ 61 108  97  80 109]\n",
      " [ 62  58  60  54  57]\n",
      " [ 63  67  85  86  88]\n",
      " [ 64 102 100  79  94]\n",
      " [ 65  91 107  89  33]\n",
      " [ 66  72  68  69  95]\n",
      " [ 67  63  85  86  76]\n",
      " [ 68  72  66  69  33]\n",
      " [ 69  33  68  89  72]\n",
      " [ 70 118  84 109  44]\n",
      " [ 71  78  82  21  87]\n",
      " [ 72  68  66  69  33]\n",
      " [ 73   3  15  96  88]\n",
      " [ 74 106 104  98  87]\n",
      " [ 75  98 104 101 106]\n",
      " [ 76  67 103  63  85]\n",
      " [ 77 114  80 105 108]\n",
      " [ 78  71  82  21  87]\n",
      " [ 79  92  64  59  48]\n",
      " [ 80 108  61  77  97]\n",
      " [ 81   9  52  39  44]\n",
      " [ 82  78  71  87  21]\n",
      " [ 83  93 103  56  76]\n",
      " [ 84 118  70  44 109]\n",
      " [ 85  86  63  67  88]\n",
      " [ 86  85  88  63  67]\n",
      " [ 87  82  78  71  74]\n",
      " [ 88  96  86  85  15]\n",
      " [ 89 107  33  69  65]\n",
      " [ 90  99  95  94 100]\n",
      " [ 91  65 107  89  33]\n",
      " [ 92  59  48  79  64]\n",
      " [ 93  83  56 103 101]\n",
      " [ 94 100  99 102  90]\n",
      " [ 95  90  99  94 100]\n",
      " [ 96  88  15  86  85]\n",
      " [ 97  61 108 109  80]\n",
      " [ 98 104  75 101 106]\n",
      " [ 99  90  94 100  95]\n",
      " [100  94  99 102  90]\n",
      " [101  75  98 104  56]\n",
      " [102 100  94  64  99]\n",
      " [103  83  93  76  56]\n",
      " [104  98  75 101 106]\n",
      " [105 114  77  27  60]\n",
      " [106  74 104  98  75]\n",
      " [107  89  33  69  65]\n",
      " [108  61  80  97  77]\n",
      " [109  97  70 118  84]\n",
      " [110 116  58  60  57]\n",
      " [111 122  60  58  55]\n",
      " [112  58  60 120  55]\n",
      " [113  58  60  55  57]\n",
      " [114 105  77  80 108]\n",
      " [115  58  60  55  57]\n",
      " [116  60  58 110  57]\n",
      " [117  60  58 119 122]\n",
      " [118  84  70 109  44]\n",
      " [119  60 117  58 122]\n",
      " [120  60  58 112  55]\n",
      " [121  58  60  55 122]\n",
      " [122  60 111  58  55]]\n"
     ]
    }
   ],
   "source": [
    "np.savetxt(\"indices of closest neighbors.csv\", indices, delimiter=\",\")\n",
    "print(indices) # indices of closest neighbors"
   ]
  }
 ],
 "metadata": {
  "kernelspec": {
   "display_name": "Python 3",
   "language": "python",
   "name": "python3"
  },
  "language_info": {
   "codemirror_mode": {
    "name": "ipython",
    "version": 3
   },
   "file_extension": ".py",
   "mimetype": "text/x-python",
   "name": "python",
   "nbconvert_exporter": "python",
   "pygments_lexer": "ipython3",
   "version": "3.8.6"
  },
  "toc": {
   "base_numbering": 1,
   "nav_menu": {},
   "number_sections": true,
   "sideBar": true,
   "skip_h1_title": false,
   "title_cell": "Table of Contents",
   "title_sidebar": "Contents",
   "toc_cell": false,
   "toc_position": {},
   "toc_section_display": true,
   "toc_window_display": true
  },
  "varInspector": {
   "cols": {
    "lenName": 16,
    "lenType": 16,
    "lenVar": 40
   },
   "kernels_config": {
    "python": {
     "delete_cmd_postfix": "",
     "delete_cmd_prefix": "del ",
     "library": "var_list.py",
     "varRefreshCmd": "print(var_dic_list())"
    },
    "r": {
     "delete_cmd_postfix": ") ",
     "delete_cmd_prefix": "rm(",
     "library": "var_list.r",
     "varRefreshCmd": "cat(var_dic_list()) "
    }
   },
   "types_to_exclude": [
    "module",
    "function",
    "builtin_function_or_method",
    "instance",
    "_Feature"
   ],
   "window_display": false
  }
 },
 "nbformat": 4,
 "nbformat_minor": 5
}
