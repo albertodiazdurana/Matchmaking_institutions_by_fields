{
 "cells": [
  {
   "cell_type": "code",
   "execution_count": 1,
   "id": "prostate-elimination",
   "metadata": {
    "ExecuteTime": {
     "end_time": "2021-03-18T09:41:05.565615Z",
     "start_time": "2021-03-18T09:41:04.195072Z"
    }
   },
   "outputs": [],
   "source": [
    "from glob import glob\n",
    "from os import path\n",
    "import pandas as pd\n"
   ]
  },
  {
   "cell_type": "markdown",
   "id": "hawaiian-central",
   "metadata": {
    "ExecuteTime": {
     "end_time": "2021-03-18T05:34:43.209340Z",
     "start_time": "2021-03-18T05:34:43.189065Z"
    }
   },
   "source": [
    "# Import data"
   ]
  },
  {
   "cell_type": "markdown",
   "id": "strategic-hardwood",
   "metadata": {},
   "source": [
    "List all files to explore"
   ]
  },
  {
   "cell_type": "code",
   "execution_count": 2,
   "id": "protecting-funds",
   "metadata": {
    "ExecuteTime": {
     "end_time": "2021-03-18T09:41:05.628539Z",
     "start_time": "2021-03-18T09:41:05.567676Z"
    },
    "scrolled": true
   },
   "outputs": [
    {
     "data": {
      "text/plain": [
       "['DB/institutes\\\\institutes_academiainstitute.csv',\n",
       " 'DB/institutes\\\\institutes_basicservicesupplierinstitute.csv',\n",
       " 'DB/institutes\\\\institutes_financialinstitute.csv',\n",
       " 'DB/institutes\\\\institutes_institute.csv',\n",
       " 'DB/institutes\\\\institutes_investorinstitute.csv',\n",
       " 'DB/institutes\\\\institutes_technicalassistanceinstitute.csv']"
      ]
     },
     "execution_count": 2,
     "metadata": {},
     "output_type": "execute_result"
    }
   ],
   "source": [
    "glob(path.join('DB/institutes','*.csv'))"
   ]
  },
  {
   "cell_type": "markdown",
   "id": "adopted-cincinnati",
   "metadata": {},
   "source": [
    "Ingest all files in the selected directory"
   ]
  },
  {
   "cell_type": "code",
   "execution_count": 3,
   "id": "together-rover",
   "metadata": {
    "ExecuteTime": {
     "end_time": "2021-03-18T09:41:05.854330Z",
     "start_time": "2021-03-18T09:41:05.638772Z"
    },
    "scrolled": true
   },
   "outputs": [],
   "source": [
    "file_names = glob(path.join('DB/institutes','*.csv'))\n",
    "dfs = [pd.read_csv(fn) for fn in file_names]\n",
    "institutes_df = pd.concat(dfs)\n",
    "\n",
    "#print(institutes_df.info())"
   ]
  },
  {
   "cell_type": "code",
   "execution_count": 4,
   "id": "divine-parade",
   "metadata": {
    "ExecuteTime": {
     "end_time": "2021-03-18T09:41:05.896331Z",
     "start_time": "2021-03-18T09:41:05.868332Z"
    },
    "scrolled": true
   },
   "outputs": [],
   "source": [
    "#print(list(institutes_df.columns.values))"
   ]
  },
  {
   "cell_type": "markdown",
   "id": "cloudy-thumbnail",
   "metadata": {},
   "source": [
    "We will export the DataFrame to have a look using Excel. "
   ]
  },
  {
   "cell_type": "code",
   "execution_count": 5,
   "id": "naked-joshua",
   "metadata": {
    "ExecuteTime": {
     "end_time": "2021-03-18T09:41:05.926330Z",
     "start_time": "2021-03-18T09:41:05.908329Z"
    }
   },
   "outputs": [],
   "source": [
    "#institutes_df.to_csv('institutes_df.csv')"
   ]
  },
  {
   "cell_type": "markdown",
   "id": "aboriginal-tuition",
   "metadata": {},
   "source": [
    "According to this dataset, some fielda are not relevant to find the nearest neighbors (matches).\n",
    "This fields are:\n",
    "- id: this field is an identification number.\n",
    "- website_url: this field is a webpage.\n",
    "- date_of_establishment: this field is a date of establishment **might not be relevant. Or is it?**\n",
    "- address_id: this field looks like a running number. **Is it relevant?**\n",
    "- mission: this field is an open text. We could apply NLP to identify topics. **Maybe in a version 2 of the tool.**\n",
    "- vision: this field is an open text. We could apply NLP to identify topics. **Maybe in a version 2 of the tool.**\n",
    "- avatar: this field is an image."
   ]
  },
  {
   "cell_type": "markdown",
   "id": "unable-defense",
   "metadata": {
    "ExecuteTime": {
     "end_time": "2021-03-18T05:35:38.576829Z",
     "start_time": "2021-03-18T05:35:38.568828Z"
    }
   },
   "source": [
    "# Build DataFrame with relevant features"
   ]
  },
  {
   "cell_type": "code",
   "execution_count": 6,
   "id": "earlier-waters",
   "metadata": {
    "ExecuteTime": {
     "end_time": "2021-03-18T09:41:06.041332Z",
     "start_time": "2021-03-18T09:41:05.942327Z"
    }
   },
   "outputs": [],
   "source": [
    "institutes_df_short = institutes_df.drop(['website_url','date_of_establishment','address_id','mission','vision','avatar'], axis=1)"
   ]
  },
  {
   "cell_type": "markdown",
   "id": "primary-burlington",
   "metadata": {},
   "source": [
    "Replace all blancs (white spaces) with an empty string [ ]"
   ]
  },
  {
   "cell_type": "code",
   "execution_count": 7,
   "id": "flying-logging",
   "metadata": {
    "ExecuteTime": {
     "end_time": "2021-03-18T09:41:06.119812Z",
     "start_time": "2021-03-18T09:41:06.061340Z"
    }
   },
   "outputs": [],
   "source": [
    "institutes_df_short = institutes_df_short.replace(r'^\\s*$', np.nan, regex=True)\n",
    "#print(institutes_df_short.head())"
   ]
  },
  {
   "cell_type": "markdown",
   "id": "protecting-current",
   "metadata": {},
   "source": [
    "Replace all empty strings {} with NaN"
   ]
  },
  {
   "cell_type": "markdown",
   "id": "stable-spell",
   "metadata": {},
   "source": [
    "Let's check in Excel..."
   ]
  },
  {
   "cell_type": "code",
   "execution_count": 8,
   "id": "bearing-bernard",
   "metadata": {
    "ExecuteTime": {
     "end_time": "2021-03-18T09:41:06.161909Z",
     "start_time": "2021-03-18T09:41:06.132045Z"
    }
   },
   "outputs": [],
   "source": [
    "#institutes_df_short.to_csv('institutes_df_short.csv')"
   ]
  },
  {
   "cell_type": "code",
   "execution_count": 9,
   "id": "suspended-singles",
   "metadata": {
    "ExecuteTime": {
     "end_time": "2021-03-18T09:41:06.192450Z",
     "start_time": "2021-03-18T09:41:06.178453Z"
    },
    "scrolled": false
   },
   "outputs": [],
   "source": [
    "#print(institutes_df_short)"
   ]
  },
  {
   "cell_type": "markdown",
   "id": "excited-profile",
   "metadata": {
    "ExecuteTime": {
     "end_time": "2021-03-18T05:37:42.462630Z",
     "start_time": "2021-03-18T05:37:42.441625Z"
    }
   },
   "source": [
    "# Split DataFrame with features of type \"object\""
   ]
  },
  {
   "cell_type": "markdown",
   "id": "compliant-engagement",
   "metadata": {
    "ExecuteTime": {
     "end_time": "2021-03-16T14:24:46.400940Z",
     "start_time": "2021-03-16T14:24:46.372507Z"
    }
   },
   "source": [
    "Let's separate the columns containing dtype == object to prepare the list to a standard form. This step will not generate yet an object recognized as a string.\n",
    "Now, clean the strings from inconsistant characters such as brackets, quotatios, curly brackets, etc."
   ]
  },
  {
   "cell_type": "code",
   "execution_count": 10,
   "id": "annual-astronomy",
   "metadata": {
    "ExecuteTime": {
     "end_time": "2021-03-18T09:41:06.628942Z",
     "start_time": "2021-03-18T09:41:06.205452Z"
    },
    "scrolled": true
   },
   "outputs": [],
   "source": [
    "institutes_df_short = institutes_df_short.loc[:,institutes_df_short.dtypes==object].replace(np.nan, \"[]\",regex=True)\n",
    "institutes_df_short = institutes_df_short.loc[:,institutes_df_short.dtypes==object].apply(lambda s:s.str.replace('\"', \"\",regex=True))\n",
    "institutes_df_short = institutes_df_short.loc[:,institutes_df_short.dtypes==object].apply(lambda s:s.str.replace('{', \"[\",regex=True))\n",
    "institutes_df_short = institutes_df_short.loc[:,institutes_df_short.dtypes==object].apply(lambda s:s.str.replace('}', \"]\",regex=True))\n",
    "institutes_df_short = institutes_df_short.loc[:,institutes_df_short.dtypes==object].apply(lambda s:s.str.replace(', ', '\",\"',regex=True))\n",
    "institutes_df_short = institutes_df_short.loc[:,institutes_df_short.dtypes==object].apply(lambda s:s.str.replace(',', '\",\"',regex=True))\n",
    "institutes_df_short = institutes_df_short.loc[:,institutes_df_short.dtypes==object].apply(lambda s:s.str.replace('[', '\"',regex=True))\n",
    "institutes_df_short = institutes_df_short.loc[:,institutes_df_short.dtypes==object].apply(lambda s:s.str.replace(']', '\"',regex=True))\n",
    "#institutes_df_short.head(20)"
   ]
  },
  {
   "cell_type": "markdown",
   "id": "pursuant-contents",
   "metadata": {},
   "source": [
    "After this first step, our lists are finally recognized as such by Pandas. Still, we can not use the standard functions, because they are not made for list applications."
   ]
  },
  {
   "cell_type": "code",
   "execution_count": 11,
   "id": "simplified-eight",
   "metadata": {
    "ExecuteTime": {
     "end_time": "2021-03-18T09:41:12.043866Z",
     "start_time": "2021-03-18T09:41:06.636940Z"
    },
    "scrolled": true
   },
   "outputs": [],
   "source": [
    "dfs = []\n",
    "for index, column in enumerate(institutes_df_short):\n",
    "    col_names = np.arange(0, len(pd.DataFrame(institutes_df_short.iloc[:,index].apply(lambda x: x[0:].split(',')).apply(pd.Series)).columns)).astype(str)\n",
    "    df = institutes_df_short[column].apply(lambda x: x[0:].split(',')).apply(pd.Series).replace('\"\"', np.nan,regex=True).reset_index(drop=True)\n",
    "    df.columns = [\"{}{}\".format(column, i) for i in col_names]\n",
    "    dfs.append(df)\n",
    "#dfs"
   ]
  },
  {
   "cell_type": "code",
   "execution_count": 12,
   "id": "south-ratio",
   "metadata": {
    "ExecuteTime": {
     "end_time": "2021-03-18T09:41:12.236186Z",
     "start_time": "2021-03-18T09:41:12.045922Z"
    },
    "scrolled": true
   },
   "outputs": [],
   "source": [
    "# to merge the array of DataFrames into a single Dataframe\n",
    "from functools import reduce\n",
    "institutes_df_short_o = reduce(lambda x,y: pd.merge(x,y, left_index=True, right_index=True), dfs)\n",
    "#institutes_df_short_o"
   ]
  },
  {
   "cell_type": "markdown",
   "id": "hybrid-extra",
   "metadata": {
    "ExecuteTime": {
     "end_time": "2021-03-18T05:45:36.955057Z",
     "start_time": "2021-03-18T05:45:36.946054Z"
    }
   },
   "source": [
    "# Split DataFrame with features not of type \"object\""
   ]
  },
  {
   "cell_type": "markdown",
   "id": "mature-memorial",
   "metadata": {},
   "source": [
    "Now, let's separate the columns containing dtype != object to include to the dataframe with the lists created in the step before."
   ]
  },
  {
   "cell_type": "code",
   "execution_count": 13,
   "id": "sufficient-remove",
   "metadata": {
    "ExecuteTime": {
     "end_time": "2021-03-18T09:41:12.266848Z",
     "start_time": "2021-03-18T09:41:12.248518Z"
    },
    "scrolled": false
   },
   "outputs": [],
   "source": [
    "institutes_df_short_no = institutes_df.loc[:,institutes_df.dtypes!=object]\n",
    "#institutes_df_short_no.info()"
   ]
  },
  {
   "cell_type": "markdown",
   "id": "ready-coverage",
   "metadata": {},
   "source": [
    "# One hot encoding "
   ]
  },
  {
   "cell_type": "markdown",
   "id": "spare-stake",
   "metadata": {},
   "source": [
    "To devide the categorical data into dummy variables we need to convert only the variables of type 'object'"
   ]
  },
  {
   "cell_type": "code",
   "execution_count": 14,
   "id": "bizarre-collector",
   "metadata": {
    "ExecuteTime": {
     "end_time": "2021-03-18T09:41:12.287143Z",
     "start_time": "2021-03-18T09:41:12.268920Z"
    }
   },
   "outputs": [],
   "source": [
    "# Make a list of column names for variables of the type object\n",
    "object_variables = list(institutes_df_short_o.columns)\n",
    "#print(object_variables)"
   ]
  },
  {
   "cell_type": "code",
   "execution_count": 15,
   "id": "simple-nation",
   "metadata": {
    "ExecuteTime": {
     "end_time": "2021-03-18T09:41:12.875243Z",
     "start_time": "2021-03-18T09:41:12.299490Z"
    }
   },
   "outputs": [],
   "source": [
    "Cat_X = pd.get_dummies(institutes_df_short_o, columns=object_variables)"
   ]
  },
  {
   "cell_type": "markdown",
   "id": "employed-demand",
   "metadata": {},
   "source": [
    "Let's check in Excel..."
   ]
  },
  {
   "cell_type": "code",
   "execution_count": 16,
   "id": "hindu-seventh",
   "metadata": {
    "ExecuteTime": {
     "end_time": "2021-03-18T09:41:12.892247Z",
     "start_time": "2021-03-18T09:41:12.883248Z"
    }
   },
   "outputs": [],
   "source": [
    "#Cat_X.to_csv('Cat_X.csv')"
   ]
  },
  {
   "cell_type": "markdown",
   "id": "illegal-sacramento",
   "metadata": {
    "ExecuteTime": {
     "end_time": "2021-03-18T07:02:34.596654Z",
     "start_time": "2021-03-18T07:02:34.588655Z"
    }
   },
   "source": [
    "# Mergeing categorical and non-categorical DataFrames"
   ]
  },
  {
   "cell_type": "code",
   "execution_count": 17,
   "id": "ancient-purpose",
   "metadata": {
    "ExecuteTime": {
     "end_time": "2021-03-18T09:41:12.923242Z",
     "start_time": "2021-03-18T09:41:12.902247Z"
    }
   },
   "outputs": [],
   "source": [
    "not_object_variables = list(institutes_df_short_no.columns)\n",
    "#print(not_object_variables)"
   ]
  },
  {
   "cell_type": "code",
   "execution_count": 18,
   "id": "graphic-parish",
   "metadata": {
    "ExecuteTime": {
     "end_time": "2021-03-18T09:41:12.939245Z",
     "start_time": "2021-03-18T09:41:12.930249Z"
    }
   },
   "outputs": [],
   "source": [
    "# Saving the column id in a DataFrame\n",
    "id_X = institutes_df_short_no['id']"
   ]
  },
  {
   "cell_type": "code",
   "execution_count": 19,
   "id": "defined-certification",
   "metadata": {
    "ExecuteTime": {
     "end_time": "2021-03-18T09:41:12.970247Z",
     "start_time": "2021-03-18T09:41:12.947245Z"
    }
   },
   "outputs": [],
   "source": [
    "# Redefining the DataFrame with non categorical values removing the column id\n",
    "nonCat_X = institutes_df_short_no.drop(['id', 'mixmarket_profile', 'current_financial_needs','object_id', 'address_id', 'content_type_id'], axis=1)\n",
    "#nonCat_X.to_csv('nonCat_X.csv')"
   ]
  },
  {
   "cell_type": "code",
   "execution_count": 20,
   "id": "chicken-edition",
   "metadata": {
    "ExecuteTime": {
     "end_time": "2021-03-18T09:41:13.101798Z",
     "start_time": "2021-03-18T09:41:12.989243Z"
    }
   },
   "outputs": [],
   "source": [
    "X = reduce(lambda x,y: pd.merge(x,y, left_index=True, right_index=True), [Cat_X,nonCat_X]).replace(np.nan, 0)\n",
    "#X.to_csv('X.csv')\n",
    "#X"
   ]
  },
  {
   "cell_type": "markdown",
   "id": "authorized-phoenix",
   "metadata": {},
   "source": [
    "# Nearest neighbors KNN"
   ]
  },
  {
   "cell_type": "code",
   "execution_count": 21,
   "id": "mature-banks",
   "metadata": {
    "ExecuteTime": {
     "end_time": "2021-03-18T09:41:18.662105Z",
     "start_time": "2021-03-18T09:41:13.125574Z"
    }
   },
   "outputs": [],
   "source": [
    "# Finding the K nearest neighbors, where number of neighbors is selected in n_neighbors\n",
    "\n",
    "from sklearn.neighbors import NearestNeighbors\n",
    "nbrs = NearestNeighbors(n_neighbors=5, algorithm='auto').fit(X)\n",
    "distances, indices = nbrs.kneighbors(X)"
   ]
  },
  {
   "cell_type": "code",
   "execution_count": 22,
   "id": "necessary-purse",
   "metadata": {
    "ExecuteTime": {
     "end_time": "2021-03-18T09:41:18.694105Z",
     "start_time": "2021-03-18T09:41:18.670108Z"
    }
   },
   "outputs": [],
   "source": [
    "#indices.shape"
   ]
  },
  {
   "cell_type": "code",
   "execution_count": 23,
   "id": "hundred-clearance",
   "metadata": {
    "ExecuteTime": {
     "end_time": "2021-03-18T09:41:18.741108Z",
     "start_time": "2021-03-18T09:41:18.706107Z"
    }
   },
   "outputs": [],
   "source": [
    "np.savetxt(\"indices of closest neighbors.csv\", indices, delimiter=\",\")\n",
    "#print(indices) # indices of closest neighbors"
   ]
  }
 ],
 "metadata": {
  "kernelspec": {
   "display_name": "Python 3",
   "language": "python",
   "name": "python3"
  },
  "language_info": {
   "codemirror_mode": {
    "name": "ipython",
    "version": 3
   },
   "file_extension": ".py",
   "mimetype": "text/x-python",
   "name": "python",
   "nbconvert_exporter": "python",
   "pygments_lexer": "ipython3",
   "version": "3.8.6"
  },
  "toc": {
   "base_numbering": 1,
   "nav_menu": {},
   "number_sections": true,
   "sideBar": true,
   "skip_h1_title": false,
   "title_cell": "Table of Contents",
   "title_sidebar": "Contents",
   "toc_cell": false,
   "toc_position": {},
   "toc_section_display": true,
   "toc_window_display": true
  },
  "varInspector": {
   "cols": {
    "lenName": 16,
    "lenType": 16,
    "lenVar": 40
   },
   "kernels_config": {
    "python": {
     "delete_cmd_postfix": "",
     "delete_cmd_prefix": "del ",
     "library": "var_list.py",
     "varRefreshCmd": "print(var_dic_list())"
    },
    "r": {
     "delete_cmd_postfix": ") ",
     "delete_cmd_prefix": "rm(",
     "library": "var_list.r",
     "varRefreshCmd": "cat(var_dic_list()) "
    }
   },
   "types_to_exclude": [
    "module",
    "function",
    "builtin_function_or_method",
    "instance",
    "_Feature"
   ],
   "window_display": false
  }
 },
 "nbformat": 4,
 "nbformat_minor": 5
}
